{
  "nbformat": 4,
  "nbformat_minor": 0,
  "metadata": {
    "colab": {
      "name": "19_ene:CYP.ipynb",
      "provenance": [],
      "authorship_tag": "ABX9TyM7UlSMSvupmk+xtivHTFMw",
      "include_colab_link": true
    },
    "kernelspec": {
      "name": "python3",
      "display_name": "Python 3"
    }
  },
  "cells": [
    {
      "cell_type": "markdown",
      "metadata": {
        "id": "view-in-github",
        "colab_type": "text"
      },
      "source": [
        "<a href=\"https://colab.research.google.com/github/abad48/CyP_2021/blob/main/19_ene_CYP.ipynb\" target=\"_parent\"><img src=\"https://colab.research.google.com/assets/colab-badge.svg\" alt=\"Open In Colab\"/></a>"
      ]
    },
    {
      "cell_type": "markdown",
      "metadata": {
        "id": "tXY9xGJErgKt"
      },
      "source": [
        "#Slincing (CONTINUACION)\r\n",
        "[ inicio : stop :incremento]\r\n",
        "Notas:\r\n",
        "1. El stop no es incluido \r\n",
        "1. el incremento se puede modificar \r\n",
        "1. soporta indexado alternativo (negativo)"
      ]
    },
    {
      "cell_type": "code",
      "metadata": {
        "id": "PIq6CkbvrlbJ"
      },
      "source": [
        "frase = \"Como hacer a la gente mas positiva?, muy facil, has que pierdan un electron:\"\r\n",
        "print(frase)\r\n",
        "#imprimir \"ace\" de la palabra hacer \r\n",
        "print( frase[ 6 : 9 : 1 ] )\r\n",
        "\r\n",
        "\r\n",
        "# valores por defecto\r\n",
        "\r\n",
        "print(frases[ : 5 : 2  ])\r\n",
        "\r\n",
        "print(len(frase))\r\n",
        "# incremento\r\n",
        "print(frase[ : : 2]) # toda la frase\r\n",
        "print( frase[ -1: :-1]) # inverso -77 \r\n",
        "\r\n",
        "nombre = \"Juan Jose\"\r\n",
        "print(nombre[1::-1])\r\n",
        "\r\n",
        "primer = nombre[:4:]\r\n",
        "print(primer)\r\n",
        "\r\n",
        "print(nombre[-9: :1])\r\n"
      ],
      "execution_count": null,
      "outputs": []
    },
    {
      "cell_type": "markdown",
      "metadata": {
        "id": "MdIrUNjUxQRr"
      },
      "source": [
        "# Métodos de la clase string(str)\r\n",
        "En python todo es un objeto (P.O.O.), eso significa que cada tipo de datos trae consigo método (funciones) incluidas. \r\n",
        "Para identificar los métodos disponibles se puede usar una de dos funciones:\r\n",
        "1. dir( str ) # Resumen de los métodos de esa clase \r\n",
        "2. help( str ) # Información completa de los métodos de esa clase."
      ]
    },
    {
      "cell_type": "code",
      "metadata": {
        "colab": {
          "base_uri": "https://localhost:8080/"
        },
        "id": "gI6L_D1oyOST",
        "outputId": "06a08cf5-83a7-4892-8a8e-8076a98365cc"
      },
      "source": [
        "nombre = \"Juan José\"\r\n",
        "print(nombre)\r\n",
        "print( dir( str) )"
      ],
      "execution_count": 12,
      "outputs": [
        {
          "output_type": "stream",
          "text": [
            "Juan José\n",
            "['__add__', '__class__', '__contains__', '__delattr__', '__dir__', '__doc__', '__eq__', '__format__', '__ge__', '__getattribute__', '__getitem__', '__getnewargs__', '__gt__', '__hash__', '__init__', '__init_subclass__', '__iter__', '__le__', '__len__', '__lt__', '__mod__', '__mul__', '__ne__', '__new__', '__reduce__', '__reduce_ex__', '__repr__', '__rmod__', '__rmul__', '__setattr__', '__sizeof__', '__str__', '__subclasshook__', 'capitalize', 'casefold', 'center', 'count', 'encode', 'endswith', 'expandtabs', 'find', 'format', 'format_map', 'index', 'isalnum', 'isalpha', 'isdecimal', 'isdigit', 'isidentifier', 'islower', 'isnumeric', 'isprintable', 'isspace', 'istitle', 'isupper', 'join', 'ljust', 'lower', 'lstrip', 'maketrans', 'partition', 'replace', 'rfind', 'rindex', 'rjust', 'rpartition', 'rsplit', 'rstrip', 'split', 'splitlines', 'startswith', 'strip', 'swapcase', 'title', 'translate', 'upper', 'zfill']\n"
          ],
          "name": "stdout"
        }
      ]
    },
    {
      "cell_type": "markdown",
      "metadata": {
        "id": "b_Dyj0FoytW6"
      },
      "source": [
        "Los nombres del métodos que inician con doble guion bajo significa que son métodos privados (POO), y no tendrías por que usarlos como programador consumidor. \r\n",
        "Los demás métodos son públicos y son de libre uso."
      ]
    },
    {
      "cell_type": "code",
      "metadata": {
        "colab": {
          "base_uri": "https://localhost:8080/"
        },
        "id": "Ih8lzqjEzd9Z",
        "outputId": "d1823bcd-e4d5-4299-b6a7-cf464325c136"
      },
      "source": [
        "print(nombre)\r\n",
        "print( nombre.islower() )\r\n",
        "nombre = \"PEDRO FERNANDEZ\"\r\n",
        "print(nombre.capitalize() )\r\n",
        "print(nombre.endswith(\"DEZ\"))\r\n",
        "print(nombre.replace( \"E\", \"*****\") )\r\n",
        "ind_e = nombre.find(\"E\")\r\n",
        "print(ind_e)\r\n",
        "\r\n",
        "print(nombre)\r\n",
        "print(nombre.replace(\"E\",\"@\",0))\r\n",
        "print( nombre.lower() )\r\n",
        "nombre = \"jose\"\r\n",
        "print(nombre.upper() )\r\n",
        "nombre = \"josé josé el principe de la canción\"\r\n",
        "print( nombre.count(\"josé\") )"
      ],
      "execution_count": 40,
      "outputs": [
        {
          "output_type": "stream",
          "text": [
            "josé josé el principe de la canción\n",
            "True\n",
            "Pedro fernandez\n",
            "True\n",
            "P*****DRO F*****RNAND*****Z\n",
            "1\n",
            "PEDRO FERNANDEZ\n",
            "PEDRO FERNANDEZ\n",
            "pedro fernandez\n",
            "JOSE\n",
            "2\n"
          ],
          "name": "stdout"
        }
      ]
    },
    {
      "cell_type": "code",
      "metadata": {
        "colab": {
          "base_uri": "https://localhost:8080/"
        },
        "id": "kN6ClbkV46qr",
        "outputId": "7ea7ae0e-7cce-40ec-a006-451109ecae16"
      },
      "source": [
        "#metodos para procesar Strings\r\n",
        "\r\n",
        "numeros =  \"2,  1 , 3 , 4,   5, 45, 7    \"\r\n",
        "print(numeros)\r\n",
        "# como extraigo los numeros de la cadena \r\n",
        "#1.- Eliminar los espacios al principio y al final con strip()\r\n",
        "numeros = numeros.strip()\r\n",
        "print(numeros)\r\n",
        "\r\n",
        "#2,. separo por comas \r\n",
        "numeros = numeros.split(\",\")\r\n",
        "print(numeros)\r\n",
        "\r\n",
        "# paso 3, con un for e indices limpiar cadenas de la lista\r\n",
        "for indice in range( len(numeros) ):\r\n",
        "    numeros[indice]= numeros[indice].strip()\r\n",
        "print(numeros)\r\n",
        "\r\n",
        "# paso 4 convertirlos a tipo entero\r\n",
        "for indice in range( len(numeros) ):\r\n",
        "    numeros[indice]= int(numeros[indice])\r\n",
        "print(numeros)\r\n",
        "\r\n",
        "# paso 5, usar los numeros.\r\n",
        "\r\n",
        "print(help(str.strip) )"
      ],
      "execution_count": 49,
      "outputs": [
        {
          "output_type": "stream",
          "text": [
            "2,  1 , 3 , 4,   5, 45, 7    \n",
            "2,  1 , 3 , 4,   5, 45, 7\n",
            "['2', '  1 ', ' 3 ', ' 4', '   5', ' 45', ' 7']\n",
            "['2', '1', '3', '4', '5', '45', '7']\n",
            "[2, 1, 3, 4, 5, 45, 7]\n",
            "Help on method_descriptor:\n",
            "\n",
            "strip(...)\n",
            "    S.strip([chars]) -> str\n",
            "    \n",
            "    Return a copy of the string S with leading and trailing\n",
            "    whitespace removed.\n",
            "    If chars is given and not None, remove characters in chars instead.\n",
            "\n",
            "None\n"
          ],
          "name": "stdout"
        }
      ]
    },
    {
      "cell_type": "code",
      "metadata": {
        "id": "zDVgnJyJ2EFq"
      },
      "source": [
        ""
      ],
      "execution_count": null,
      "outputs": []
    },
    {
      "cell_type": "code",
      "metadata": {
        "colab": {
          "base_uri": "https://localhost:8080/"
        },
        "id": "EI-K378Qz4yC",
        "outputId": "9dc7295e-7409-49b0-c539-6a70f519ef58"
      },
      "source": [
        " print( help(str.replace) )"
      ],
      "execution_count": 30,
      "outputs": [
        {
          "output_type": "stream",
          "text": [
            "Help on method_descriptor:\n",
            "\n",
            "replace(...)\n",
            "    S.replace(old, new[, count]) -> str\n",
            "    \n",
            "    Return a copy of S with all occurrences of substring\n",
            "    old replaced by new.  If the optional argument count is\n",
            "    given, only the first count occurrences are replaced.\n",
            "\n",
            "None\n"
          ],
          "name": "stdout"
        }
      ]
    }
  ]
}