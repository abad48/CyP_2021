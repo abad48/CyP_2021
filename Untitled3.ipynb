{
  "nbformat": 4,
  "nbformat_minor": 0,
  "metadata": {
    "colab": {
      "provenance": [],
      "authorship_tag": "ABX9TyO5LAf1p9xwHEQ9K2GEO1+F",
      "include_colab_link": true
    },
    "kernelspec": {
      "name": "python3",
      "display_name": "Python 3"
    },
    "language_info": {
      "name": "python"
    }
  },
  "cells": [
    {
      "cell_type": "markdown",
      "metadata": {
        "id": "view-in-github",
        "colab_type": "text"
      },
      "source": [
        "<a href=\"https://colab.research.google.com/github/abad48/CyP_2021/blob/main/Untitled3.ipynb\" target=\"_parent\"><img src=\"https://colab.research.google.com/assets/colab-badge.svg\" alt=\"Open In Colab\"/></a>"
      ]
    },
    {
      "cell_type": "code",
      "execution_count": 4,
      "metadata": {
        "colab": {
          "base_uri": "https://localhost:8080/",
          "height": 110
        },
        "id": "tORGCzjm7a0i",
        "outputId": "4dcab981-bd52-4866-da2f-95a5d5405478"
      },
      "outputs": [
        {
          "output_type": "error",
          "ename": "SyntaxError",
          "evalue": "invalid syntax (<ipython-input-4-db406be07755>, line 3)",
          "traceback": [
            "\u001b[0;36m  File \u001b[0;32m\"<ipython-input-4-db406be07755>\"\u001b[0;36m, line \u001b[0;32m3\u001b[0m\n\u001b[0;31m    public class Calculadora extends JFrame{\u001b[0m\n\u001b[0m           ^\u001b[0m\n\u001b[0;31mSyntaxError\u001b[0m\u001b[0;31m:\u001b[0m invalid syntax\n"
          ]
        }
      ],
      "source": [
        "\"Calculadora Programa1\"\n",
        "\n",
        "public class Calculadora extends JFrame{\n",
        "    JPanel pp,pb;\n",
        "    JTextField p;\n",
        "    JButton b[];\n",
        "    string bt[] = new string[]{\"7\",\"8\",\"9\",\"+\",\"4\",\"5\",\"6\",\"-\",\"1\",\"2\",\"3\",\"*\",\"0\",\".\",\"=\",\"/\"};\n",
        "\n",
        "public calculadora(){\n",
        "    set Title(\"Calculadora\");\n",
        "    set Size(190,170)\n",
        "    set DefaultCloseOperation(JFrame.EXIT_ON_CLOSE);\n",
        "    set Layout(new GridLayout(2,1));\n",
        "    set Layout(new BorderLautt(J))\n",
        "   pp = new JPanel();\n",
        "   pb = new Jpanel();\n",
        "   p = new JText Field (20);\n",
        "   b = new JButton [16];\n",
        "    pb.set Layout(new GridLayout(4,4));\n",
        "    pp.add(p);\n",
        "    add(p);\n",
        "    add(pp.);add(BorderLayout.NORTH,pp);\n",
        "    for(int i=0;i<16;i++){\n",
        "        b[i]=new JButton(bt[i]);\n",
        "        pb.add(b[i]);\n",
        "    }\n",
        "public static void main(Stirng[]a){\n",
        "    Calculadora c=new Calculadora();\n",
        "    c.set Visible(true);\n",
        "    add(pb);add(BorderLayout.SOUTH,pb);}//fin main\n",
        "    }//fin Constructor\n",
        "    }//fin Clase\n",
        ""
      ]
    },
    {
      "cell_type": "code",
      "source": [],
      "metadata": {
        "id": "wuMOE4-yEixd"
      },
      "execution_count": null,
      "outputs": []
    },
    {
      "cell_type": "code",
      "source": [],
      "metadata": {
        "id": "1wEGMztgEjBo"
      },
      "execution_count": null,
      "outputs": []
    }
  ]
}