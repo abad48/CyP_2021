{
  "nbformat": 4,
  "nbformat_minor": 0,
  "metadata": {
    "colab": {
      "name": "17_nov_cyp_2020",
      "provenance": [],
      "authorship_tag": "ABX9TyOTa6T2c5tFRj8evNkEQRPn",
      "include_colab_link": true
    },
    "kernelspec": {
      "name": "python3",
      "display_name": "Python 3"
    }
  },
  "cells": [
    {
      "cell_type": "markdown",
      "metadata": {
        "id": "view-in-github",
        "colab_type": "text"
      },
      "source": [
        "<a href=\"https://colab.research.google.com/github/abad48/CyP_2021/blob/main/17_nov_cyp_2020.ipynb\" target=\"_parent\"><img src=\"https://colab.research.google.com/assets/colab-badge.svg\" alt=\"Open In Colab\"/></a>"
      ]
    },
    {
      "cell_type": "code",
      "metadata": {
        "colab": {
          "base_uri": "https://localhost:8080/"
        },
        "id": "zvASnMeER_8A",
        "outputId": "b53b4ba7-ae9b-4807-962f-fdea21ebc7a1"
      },
      "source": [
        "edad = 15\n",
        "estatura = 1.70\n",
        "a = 10\n",
        "b = 3 \n",
        "\n",
        "c = 2**b+2+3+4\n",
        "\n",
        "print( c )\n",
        "\n",
        "e = estatura * 2.0\n",
        "print( e )\n",
        "\n",
        "f = a / b # en python se hace el calculo exacto \n",
        "print(f) # 3.3333\n",
        "\n",
        "#tambien podemos forzar al calculo de enteros\n",
        "g = a // b\n",
        "print(\"g=\",g)\n",
        "\n",
        "h = a % b\n",
        "print(\"h=\",h)\n",
        "\n",
        "num = 11\n",
        "print(\"es par num?\", (num % 2)==0 )\n"
      ],
      "execution_count": 10,
      "outputs": [
        {
          "output_type": "stream",
          "text": [
            "17\n",
            "3.4\n",
            "3.3333333333333335\n",
            "g= 3\n",
            "h= 1\n",
            "es par num? False\n"
          ],
          "name": "stdout"
        }
      ]
    },
    {
      "cell_type": "code",
      "metadata": {
        "colab": {
          "base_uri": "https://localhost:8080/"
        },
        "id": "Jm4a3ivxW7Ce",
        "outputId": "091c02ef-9fa9-41e9-b928-3f6ee62cba29"
      },
      "source": [
        "ecuacion = 9 + 7 * 8 - 36 / 5 # 9+56-7.2 -> 65 -7.2\n",
        "print(ecuacion)\n",
        "ecuacion=0\n",
        "ecuacion = (9 + 7) * 8 - 36 / 5 #128 - 7.2\n",
        "print(ecuacion)\n",
        "\n",
        "\n",
        "ecuacion=9+7*(8-36) / 5 #\n",
        "print(ecuacion)"
      ],
      "execution_count": 13,
      "outputs": [
        {
          "output_type": "stream",
          "text": [
            "57.8\n",
            "120.8\n",
            "-30.200000000000003\n"
          ],
          "name": "stdout"
        }
      ]
    },
    {
      "cell_type": "code",
      "metadata": {
        "colab": {
          "base_uri": "https://localhost:8080/"
        },
        "id": "cCK1Pl1Wb5un",
        "outputId": "7d9def94-cbea-4674-fe2d-ab625f82d6d6"
      },
      "source": [
        "#operadores logicos --> True y False\n",
        "\n",
        "x=5\n",
        "y=4\n",
        "\n",
        "valor=(x==y) #son iguales ?? --> Falso\n",
        "print(valor)\n",
        "\n",
        "valor=(x!=y) #son diferentes ?? --> Verdadero\n",
        "print(valor)\n",
        "\n",
        "valor = ( x < y) # x es menor que y ?? Falso\n",
        "print(valor)\n",
        "\n",
        "valor = ( x > y ) #x es mayor que y ?? Falso\n",
        "print(valor)\n",
        "\n",
        "y=5\n",
        "valor = ( x <= y) # x es menor o igual que y ?? True\n",
        "print(valor)\n",
        "\n",
        "\n",
        "valor = ( x >= y) # x es mayor o igual que y ?? True\n",
        "print(valor)"
      ],
      "execution_count": 21,
      "outputs": [
        {
          "output_type": "stream",
          "text": [
            "False\n",
            "True\n",
            "False\n",
            "True\n",
            "True\n",
            "True\n"
          ],
          "name": "stdout"
        }
      ]
    },
    {
      "cell_type": "code",
      "metadata": {
        "colab": {
          "base_uri": "https://localhost:8080/"
        },
        "id": "KCc89W6RffjN",
        "outputId": "c20deeb3-8612-4697-eb1f-d21427b2eda2"
      },
      "source": [
        "costo_chetos=7.0\n",
        "tienda_abierta=True \n",
        "capital_en_bolsa=10.0\n",
        "\n",
        "se_compra= (costo_chetos<capital_en_bolsa) and (tienda_abierta==True)\n",
        "print(se_compra)"
      ],
      "execution_count": 24,
      "outputs": [
        {
          "output_type": "stream",
          "text": [
            "True\n"
          ],
          "name": "stdout"
        }
      ]
    }
  ]
}