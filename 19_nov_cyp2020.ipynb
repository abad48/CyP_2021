{
  "nbformat": 4,
  "nbformat_minor": 0,
  "metadata": {
    "colab": {
      "name": "19_nov_cyp2020",
      "provenance": [],
      "authorship_tag": "ABX9TyMFZKBPwgrbWX3xA0+1dQjg",
      "include_colab_link": true
    },
    "kernelspec": {
      "name": "python3",
      "display_name": "Python 3"
    }
  },
  "cells": [
    {
      "cell_type": "markdown",
      "metadata": {
        "id": "view-in-github",
        "colab_type": "text"
      },
      "source": [
        "<a href=\"https://colab.research.google.com/github/abad48/CyP_2021/blob/main/19_nov_cyp2020.ipynb\" target=\"_parent\"><img src=\"https://colab.research.google.com/assets/colab-badge.svg\" alt=\"Open In Colab\"/></a>"
      ]
    },
    {
      "cell_type": "code",
      "metadata": {
        "colab": {
          "base_uri": "https://localhost:8080/"
        },
        "id": "KiC_ffhXvKSq",
        "outputId": "a7f535df-eb74-464a-c151-9bb1c679702a"
      },
      "source": [
        "I=0\n",
        "I=I+1\n",
        "I=I+1\n",
        "# print(f\"I={I}\")\n",
        "J=5**2/3\n",
        "print(f\"J={J}\")\n"
      ],
      "execution_count": 2,
      "outputs": [
        {
          "output_type": "stream",
          "text": [
            "J=8.333333333333334\n"
          ],
          "name": "stdout"
        }
      ]
    },
    {
      "cell_type": "code",
      "metadata": {
        "colab": {
          "base_uri": "https://localhost:8080/"
        },
        "id": "p5l3Lbto4UE0",
        "outputId": "7a38b2d0-dfe2-4165-f7e1-6bed324cbb7a"
      },
      "source": [
        "#declaracion de variables (reservando memoria)\n",
        "A=0\n",
        "B=0\n",
        "C=0\n",
        "D=0\n",
        "\n",
        "A=int(input(\"dame un numero entero:\"))\n",
        "B=int(input(\"dame un numero entero:\"))\n",
        "C=int(input(\"dame un numero entero:\"))\n",
        "D=int(input(\"dame un nunmero entero:\"))\n",
        "print(D)\n",
        "print(B)\n",
        "print(C)\n",
        "print(A)"
      ],
      "execution_count": 3,
      "outputs": [
        {
          "output_type": "stream",
          "text": [
            "dame un numero entero:8\n",
            "dame un numero entero:7\n",
            "dame un numero entero:6\n",
            "dame un nunmero entero:1\n",
            "1\n",
            "7\n",
            "6\n",
            "8\n"
          ],
          "name": "stdout"
        }
      ]
    },
    {
      "cell_type": "code",
      "metadata": {
        "colab": {
          "base_uri": "https://localhost:8080/"
        },
        "id": "bcASti3l5llj",
        "outputId": "a1cf90bd-6d4f-4549-d42e-9990fffe2eb9"
      },
      "source": [
        "#ejemplo numero 1.7\n",
        "A=0\n",
        "B=0\n",
        "A=int(input(\"dame un entero:\"))\n",
        "B=int(input(\"dame un entero:\"))\n",
        "RES=(A+B)**2/3\n",
        "print(RES)"
      ],
      "execution_count": 5,
      "outputs": [
        {
          "output_type": "stream",
          "text": [
            "dame un entero:5\n",
            "dame un entero:6\n",
            "40.333333333333336\n"
          ],
          "name": "stdout"
        }
      ]
    },
    {
      "cell_type": "code",
      "metadata": {
        "colab": {
          "base_uri": "https://localhost:8080/"
        },
        "id": "YsRkiJ4awYpb",
        "outputId": "bea52538-77d4-4413-87bd-cfefc134797e"
      },
      "source": [
        "#ejemplo 1.8\n",
        "MAT=0\n",
        "CAL1=0\n",
        "CAL2=0\n",
        "CAL3=0\n",
        "CAL4=0\n",
        "CAL5=0\n",
        "PRO=0.0\n",
        "MAT=int(input(\"dame la matricula:\"))\n",
        "PRO=(CAL1+CAL2+CAL3+CAL4+CAL5)/5\n",
        "CAL1=float (input(\"DAME LA CALIFICACION 1:\"))\n",
        "CAL2=float (input(\"DAME LA CALIFICACION 2:\"))\n",
        "CAL3=float (input(\"DAME LA CALIFICACION 3:\"))\n",
        "CAL4=float (input(\"DAME LA CALIFICACION 4:\"))\n",
        "CAL5=float (input(\"DAME LA CALIFICACION 5:\"))\n",
        "\n",
        "pro= ((CAL1+CAL2+CAL3+CAL4+CAL5)/5)\n",
        "print (MAT , PRO)\n"
      ],
      "execution_count": 1,
      "outputs": [
        {
          "output_type": "stream",
          "text": [
            "dame la matricula:314353706\n",
            "DAME LA CALIFICACION 1:9\n",
            "DAME LA CALIFICACION 2:8\n",
            "DAME LA CALIFICACION 3:7\n",
            "DAME LA CALIFICACION 4:6\n",
            "DAME LA CALIFICACION 5:5\n",
            "314353706 0.0\n"
          ],
          "name": "stdout"
        }
      ]
    },
    {
      "cell_type": "code",
      "metadata": {
        "colab": {
          "base_uri": "https://localhost:8080/"
        },
        "id": "TvqaMn7V1xoC",
        "outputId": "1e05a766-f70f-4b9f-c58c-17aa095b18d7"
      },
      "source": [
        "#ejemplo 1.10\n",
        "base=0\n",
        "altura=0\n",
        "area=0\n",
        "per=0\n",
        "\n",
        "base=float(input(\"ingresa la base:\"))\n",
        "altura=float(input(\"ingresa la altura:\"))\n",
        "area=(base*altura)\n",
        "per=(2*base)+(2*altura) #(base*altura)*2\n",
        "\n",
        "print(f\"el area es {area}\")\n",
        "print(f\"el perimetro es {per}\")"
      ],
      "execution_count": 9,
      "outputs": [
        {
          "output_type": "stream",
          "text": [
            "ingresa la base:8\n",
            "ingresa la altura:6\n",
            "el area es 48.0\n",
            "el perimetro es 28.0\n"
          ],
          "name": "stdout"
        }
      ]
    }
  ]
}